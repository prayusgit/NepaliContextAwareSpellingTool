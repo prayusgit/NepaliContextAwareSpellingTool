{
 "cells": [
  {
   "cell_type": "code",
   "execution_count": 31,
   "metadata": {},
   "outputs": [],
   "source": [
    "import pandas as pd\n",
    "import numpy as np\n",
    "import matplotlib.pyplot as plt"
   ]
  },
  {
   "cell_type": "code",
   "execution_count": 32,
   "metadata": {},
   "outputs": [],
   "source": [
    "df = pd.read_csv('./chunk_1.csv')"
   ]
  },
  {
   "cell_type": "code",
   "execution_count": 33,
   "metadata": {},
   "outputs": [
    {
     "data": {
      "text/html": [
       "<div>\n",
       "<style scoped>\n",
       "    .dataframe tbody tr th:only-of-type {\n",
       "        vertical-align: middle;\n",
       "    }\n",
       "\n",
       "    .dataframe tbody tr th {\n",
       "        vertical-align: top;\n",
       "    }\n",
       "\n",
       "    .dataframe thead th {\n",
       "        text-align: right;\n",
       "    }\n",
       "</style>\n",
       "<table border=\"1\" class=\"dataframe\">\n",
       "  <thead>\n",
       "    <tr style=\"text-align: right;\">\n",
       "      <th></th>\n",
       "      <th>category</th>\n",
       "      <th>heading</th>\n",
       "      <th>text</th>\n",
       "      <th>date</th>\n",
       "      <th>link</th>\n",
       "      <th>clean_categories</th>\n",
       "    </tr>\n",
       "  </thead>\n",
       "  <tbody>\n",
       "    <tr>\n",
       "      <th>0</th>\n",
       "      <td>राजनीति</td>\n",
       "      <td>छापामारदेखि मन्त्रीसम्म...</td>\n",
       "      <td>सुर्खेत (रासस) ।</td>\n",
       "      <td>बिहीबार, फागुन १०, २०७४</td>\n",
       "      <td>https://baahrakhari.com/news-details/49124</td>\n",
       "      <td>politics</td>\n",
       "    </tr>\n",
       "    <tr>\n",
       "      <th>1</th>\n",
       "      <td>राजनीति</td>\n",
       "      <td>छापामारदेखि मन्त्रीसम्म...</td>\n",
       "      <td>विसं २०४६ मा तत्कालीन मसालको विद्यार्थी संगठनक...</td>\n",
       "      <td>बिहीबार, फागुन १०, २०७४</td>\n",
       "      <td>https://baahrakhari.com/news-details/49124</td>\n",
       "      <td>politics</td>\n",
       "    </tr>\n",
       "    <tr>\n",
       "      <th>2</th>\n",
       "      <td>राजनीति</td>\n",
       "      <td>छापामारदेखि मन्त्रीसम्म...</td>\n",
       "      <td>पछि संगठनका अग्रजले मुलुकको राजनीतिक, आर्थिक र...</td>\n",
       "      <td>बिहीबार, फागुन १०, २०७४</td>\n",
       "      <td>https://baahrakhari.com/news-details/49124</td>\n",
       "      <td>politics</td>\n",
       "    </tr>\n",
       "    <tr>\n",
       "      <th>3</th>\n",
       "      <td>राजनीति</td>\n",
       "      <td>छापामारदेखि मन्त्रीसम्म...</td>\n",
       "      <td>यद्यपि त्यतिबेला भने नेपालमा सशस्त्र युद्धको थ...</td>\n",
       "      <td>बिहीबार, फागुन १०, २०७४</td>\n",
       "      <td>https://baahrakhari.com/news-details/49124</td>\n",
       "      <td>politics</td>\n",
       "    </tr>\n",
       "    <tr>\n",
       "      <th>4</th>\n",
       "      <td>राजनीति</td>\n",
       "      <td>छापामारदेखि मन्त्रीसम्म...</td>\n",
       "      <td>सानै उमेरमा बुबाको मृत्यु भएकाले केसीलाई विद्य...</td>\n",
       "      <td>बिहीबार, फागुन १०, २०७४</td>\n",
       "      <td>https://baahrakhari.com/news-details/49124</td>\n",
       "      <td>politics</td>\n",
       "    </tr>\n",
       "  </tbody>\n",
       "</table>\n",
       "</div>"
      ],
      "text/plain": [
       "  category                     heading  \\\n",
       "0  राजनीति  छापामारदेखि मन्त्रीसम्म...   \n",
       "1  राजनीति  छापामारदेखि मन्त्रीसम्म...   \n",
       "2  राजनीति  छापामारदेखि मन्त्रीसम्म...   \n",
       "3  राजनीति  छापामारदेखि मन्त्रीसम्म...   \n",
       "4  राजनीति  छापामारदेखि मन्त्रीसम्म...   \n",
       "\n",
       "                                                text                     date  \\\n",
       "0                                   सुर्खेत (रासस) ।  बिहीबार, फागुन १०, २०७४   \n",
       "1  विसं २०४६ मा तत्कालीन मसालको विद्यार्थी संगठनक...  बिहीबार, फागुन १०, २०७४   \n",
       "2  पछि संगठनका अग्रजले मुलुकको राजनीतिक, आर्थिक र...  बिहीबार, फागुन १०, २०७४   \n",
       "3  यद्यपि त्यतिबेला भने नेपालमा सशस्त्र युद्धको थ...  बिहीबार, फागुन १०, २०७४   \n",
       "4  सानै उमेरमा बुबाको मृत्यु भएकाले केसीलाई विद्य...  बिहीबार, फागुन १०, २०७४   \n",
       "\n",
       "                                         link clean_categories  \n",
       "0  https://baahrakhari.com/news-details/49124         politics  \n",
       "1  https://baahrakhari.com/news-details/49124         politics  \n",
       "2  https://baahrakhari.com/news-details/49124         politics  \n",
       "3  https://baahrakhari.com/news-details/49124         politics  \n",
       "4  https://baahrakhari.com/news-details/49124         politics  "
      ]
     },
     "execution_count": 33,
     "metadata": {},
     "output_type": "execute_result"
    }
   ],
   "source": [
    "df.head()"
   ]
  },
  {
   "cell_type": "code",
   "execution_count": 34,
   "metadata": {},
   "outputs": [
    {
     "data": {
      "text/plain": [
       "(140000, 6)"
      ]
     },
     "execution_count": 34,
     "metadata": {},
     "output_type": "execute_result"
    }
   ],
   "source": [
    "df.shape"
   ]
  },
  {
   "cell_type": "code",
   "execution_count": 35,
   "metadata": {},
   "outputs": [
    {
     "data": {
      "text/plain": [
       "'सुर्खेत (रासस) ।'"
      ]
     },
     "execution_count": 35,
     "metadata": {},
     "output_type": "execute_result"
    }
   ],
   "source": [
    "df.iloc[0].text"
   ]
  },
  {
   "cell_type": "code",
   "execution_count": 36,
   "metadata": {},
   "outputs": [
    {
     "data": {
      "text/html": [
       "<div>\n",
       "<style scoped>\n",
       "    .dataframe tbody tr th:only-of-type {\n",
       "        vertical-align: middle;\n",
       "    }\n",
       "\n",
       "    .dataframe tbody tr th {\n",
       "        vertical-align: top;\n",
       "    }\n",
       "\n",
       "    .dataframe thead th {\n",
       "        text-align: right;\n",
       "    }\n",
       "</style>\n",
       "<table border=\"1\" class=\"dataframe\">\n",
       "  <thead>\n",
       "    <tr style=\"text-align: right;\">\n",
       "      <th></th>\n",
       "      <th>category</th>\n",
       "      <th>heading</th>\n",
       "      <th>text</th>\n",
       "      <th>date</th>\n",
       "      <th>link</th>\n",
       "      <th>clean_categories</th>\n",
       "    </tr>\n",
       "  </thead>\n",
       "  <tbody>\n",
       "    <tr>\n",
       "      <th>0</th>\n",
       "      <td>राजनीति</td>\n",
       "      <td>छापामारदेखि मन्त्रीसम्म...</td>\n",
       "      <td>सुर्खेत (रासस) ।</td>\n",
       "      <td>बिहीबार, फागुन १०, २०७४</td>\n",
       "      <td>https://baahrakhari.com/news-details/49124</td>\n",
       "      <td>politics</td>\n",
       "    </tr>\n",
       "    <tr>\n",
       "      <th>1</th>\n",
       "      <td>राजनीति</td>\n",
       "      <td>छापामारदेखि मन्त्रीसम्म...</td>\n",
       "      <td>विसं २०४६ मा तत्कालीन मसालको विद्यार्थी संगठनक...</td>\n",
       "      <td>बिहीबार, फागुन १०, २०७४</td>\n",
       "      <td>https://baahrakhari.com/news-details/49124</td>\n",
       "      <td>politics</td>\n",
       "    </tr>\n",
       "    <tr>\n",
       "      <th>2</th>\n",
       "      <td>राजनीति</td>\n",
       "      <td>छापामारदेखि मन्त्रीसम्म...</td>\n",
       "      <td>पछि संगठनका अग्रजले मुलुकको राजनीतिक, आर्थिक र...</td>\n",
       "      <td>बिहीबार, फागुन १०, २०७४</td>\n",
       "      <td>https://baahrakhari.com/news-details/49124</td>\n",
       "      <td>politics</td>\n",
       "    </tr>\n",
       "    <tr>\n",
       "      <th>3</th>\n",
       "      <td>राजनीति</td>\n",
       "      <td>छापामारदेखि मन्त्रीसम्म...</td>\n",
       "      <td>यद्यपि त्यतिबेला भने नेपालमा सशस्त्र युद्धको थ...</td>\n",
       "      <td>बिहीबार, फागुन १०, २०७४</td>\n",
       "      <td>https://baahrakhari.com/news-details/49124</td>\n",
       "      <td>politics</td>\n",
       "    </tr>\n",
       "    <tr>\n",
       "      <th>4</th>\n",
       "      <td>राजनीति</td>\n",
       "      <td>छापामारदेखि मन्त्रीसम्म...</td>\n",
       "      <td>सानै उमेरमा बुबाको मृत्यु भएकाले केसीलाई विद्य...</td>\n",
       "      <td>बिहीबार, फागुन १०, २०७४</td>\n",
       "      <td>https://baahrakhari.com/news-details/49124</td>\n",
       "      <td>politics</td>\n",
       "    </tr>\n",
       "  </tbody>\n",
       "</table>\n",
       "</div>"
      ],
      "text/plain": [
       "  category                     heading  \\\n",
       "0  राजनीति  छापामारदेखि मन्त्रीसम्म...   \n",
       "1  राजनीति  छापामारदेखि मन्त्रीसम्म...   \n",
       "2  राजनीति  छापामारदेखि मन्त्रीसम्म...   \n",
       "3  राजनीति  छापामारदेखि मन्त्रीसम्म...   \n",
       "4  राजनीति  छापामारदेखि मन्त्रीसम्म...   \n",
       "\n",
       "                                                text                     date  \\\n",
       "0                                   सुर्खेत (रासस) ।  बिहीबार, फागुन १०, २०७४   \n",
       "1  विसं २०४६ मा तत्कालीन मसालको विद्यार्थी संगठनक...  बिहीबार, फागुन १०, २०७४   \n",
       "2  पछि संगठनका अग्रजले मुलुकको राजनीतिक, आर्थिक र...  बिहीबार, फागुन १०, २०७४   \n",
       "3  यद्यपि त्यतिबेला भने नेपालमा सशस्त्र युद्धको थ...  बिहीबार, फागुन १०, २०७४   \n",
       "4  सानै उमेरमा बुबाको मृत्यु भएकाले केसीलाई विद्य...  बिहीबार, फागुन १०, २०७४   \n",
       "\n",
       "                                         link clean_categories  \n",
       "0  https://baahrakhari.com/news-details/49124         politics  \n",
       "1  https://baahrakhari.com/news-details/49124         politics  \n",
       "2  https://baahrakhari.com/news-details/49124         politics  \n",
       "3  https://baahrakhari.com/news-details/49124         politics  \n",
       "4  https://baahrakhari.com/news-details/49124         politics  "
      ]
     },
     "execution_count": 36,
     "metadata": {},
     "output_type": "execute_result"
    }
   ],
   "source": [
    "df.head()"
   ]
  },
  {
   "cell_type": "code",
   "execution_count": 37,
   "metadata": {},
   "outputs": [
    {
     "data": {
      "text/plain": [
       "['त्यसैले दैनिक पत्रिकाको सम्पादक हुन ‘गोरखापत्र’ नै ताक्नुपथ्र्यो ।',\n",
       " '“देशान्तरमा पुगेपछि दैनिक पत्रिकाको सम्पादक पनि हुनुपर्छ कि क्या हो भन्ने इच्छाचाहिँ पलाएको थियो तर जसरी पनि हुनैपर्छ भन्ने आकांक्षा बोकेर भने म कहिल्यै पनि हिँडिनँ,” सम्पादक बन्ने आफ्नो छिपछिपे रहर लाग्दाको कुरा साट्छन् श्री ।',\n",
       " 'अहिलेको पत्रकारिता समयको प्रभाव प्रविधिमा पर्\\u200dयो ।',\n",
       " '']"
      ]
     },
     "execution_count": 37,
     "metadata": {},
     "output_type": "execute_result"
    }
   ],
   "source": [
    "import re\n",
    "\n",
    "def split_into_sentences(text):\n",
    "    # Regular expression to split text into sentences\n",
    "    sentence_endings = r'(?<=[!?।]) *'\n",
    "    sentences = re.split(sentence_endings, text)\n",
    "    return sentences\n",
    "\n",
    "split_into_sentences('त्यसैले दैनिक पत्रिकाको सम्पादक हुन ‘गोरखापत्र’ नै ताक्नुपथ्र्यो । “देशान्तरमा पुगेपछि दैनिक पत्रिकाको सम्पादक पनि हुनुपर्छ कि क्या हो भन्ने इच्छाचाहिँ पलाएको थियो तर जसरी पनि हुनैपर्छ भन्ने आकांक्षा बोकेर भने म कहिल्यै पनि हिँडिनँ,” सम्पादक बन्ने आफ्नो छिपछिपे रहर लाग्दाको कुरा साट्छन् श्री । अहिलेको पत्रकारिता समयको प्रभाव प्रविधिमा पर्‍यो ।')\n"
   ]
  },
  {
   "cell_type": "code",
   "execution_count": 38,
   "metadata": {},
   "outputs": [],
   "source": [
    "import pandas as pd\n",
    "import re\n",
    "\n",
    "# Function to split text into sentences\n",
    "def split_into_sentences(text):\n",
    "    # Regular expression to split text into sentences\n",
    "    sentence_endings = r'(?<=[!?।]) *'\n",
    "    sentences = re.split(sentence_endings, text)\n",
    "    return sentences\n",
    "\n",
    "\n",
    "# Reorganize dataset by splitting each row into multiple rows per sentence\n",
    "rows = []\n",
    "for index, row in df.iterrows():\n",
    "    if len(str(row['text'])) > 30:\n",
    "        sentences = split_into_sentences(str(row['text']))[:-1]  # Assuming 'text' column holds the content\n",
    "        for sentence in sentences:\n",
    "            rows.append({'text': sentence})\n",
    "\n",
    "# Create a new DataFrame with one sentence per row\n",
    "new_df = pd.DataFrame(rows)\n",
    "\n",
    "# Save the new DataFrame to a CSV file\n",
    "new_df.to_csv('reorganized_dataset.csv', index=False)\n"
   ]
  },
  {
   "cell_type": "code",
   "execution_count": 39,
   "metadata": {},
   "outputs": [
    {
     "data": {
      "text/html": [
       "<div>\n",
       "<style scoped>\n",
       "    .dataframe tbody tr th:only-of-type {\n",
       "        vertical-align: middle;\n",
       "    }\n",
       "\n",
       "    .dataframe tbody tr th {\n",
       "        vertical-align: top;\n",
       "    }\n",
       "\n",
       "    .dataframe thead th {\n",
       "        text-align: right;\n",
       "    }\n",
       "</style>\n",
       "<table border=\"1\" class=\"dataframe\">\n",
       "  <thead>\n",
       "    <tr style=\"text-align: right;\">\n",
       "      <th></th>\n",
       "      <th>text</th>\n",
       "    </tr>\n",
       "  </thead>\n",
       "  <tbody>\n",
       "    <tr>\n",
       "      <th>0</th>\n",
       "      <td>विसं २०४६ मा तत्कालीन मसालको विद्यार्थी संगठनक...</td>\n",
       "    </tr>\n",
       "    <tr>\n",
       "      <th>1</th>\n",
       "      <td>विद्यार्थी संगठनको सदस्य हुँदा राजनीतिबारे खास...</td>\n",
       "    </tr>\n",
       "    <tr>\n",
       "      <th>2</th>\n",
       "      <td>पछि संगठनका अग्रजले मुलुकको राजनीतिक, आर्थिक र...</td>\n",
       "    </tr>\n",
       "    <tr>\n",
       "      <th>3</th>\n",
       "      <td>यद्यपि त्यतिबेला भने नेपालमा सशस्त्र युद्धको थ...</td>\n",
       "    </tr>\n",
       "    <tr>\n",
       "      <th>4</th>\n",
       "      <td>किशोर अवस्थादेखि राजनीतिक यात्रा शुरु गरेकी बि...</td>\n",
       "    </tr>\n",
       "  </tbody>\n",
       "</table>\n",
       "</div>"
      ],
      "text/plain": [
       "                                                text\n",
       "0  विसं २०४६ मा तत्कालीन मसालको विद्यार्थी संगठनक...\n",
       "1  विद्यार्थी संगठनको सदस्य हुँदा राजनीतिबारे खास...\n",
       "2  पछि संगठनका अग्रजले मुलुकको राजनीतिक, आर्थिक र...\n",
       "3  यद्यपि त्यतिबेला भने नेपालमा सशस्त्र युद्धको थ...\n",
       "4  किशोर अवस्थादेखि राजनीतिक यात्रा शुरु गरेकी बि..."
      ]
     },
     "execution_count": 39,
     "metadata": {},
     "output_type": "execute_result"
    }
   ],
   "source": [
    "new_df.head()"
   ]
  },
  {
   "cell_type": "code",
   "execution_count": 40,
   "metadata": {},
   "outputs": [
    {
     "data": {
      "text/plain": [
       "(174898, 1)"
      ]
     },
     "execution_count": 40,
     "metadata": {},
     "output_type": "execute_result"
    }
   ],
   "source": [
    "new_df.shape"
   ]
  },
  {
   "cell_type": "code",
   "execution_count": null,
   "metadata": {},
   "outputs": [],
   "source": []
  }
 ],
 "metadata": {
  "kernelspec": {
   "display_name": "env_torch",
   "language": "python",
   "name": "python3"
  },
  "language_info": {
   "codemirror_mode": {
    "name": "ipython",
    "version": 3
   },
   "file_extension": ".py",
   "mimetype": "text/x-python",
   "name": "python",
   "nbconvert_exporter": "python",
   "pygments_lexer": "ipython3",
   "version": "3.12.3"
  }
 },
 "nbformat": 4,
 "nbformat_minor": 2
}
