{
 "cells": [
  {
   "cell_type": "code",
   "execution_count": 1,
   "metadata": {},
   "outputs": [],
   "source": [
    "import pandas as pd\n",
    "import numpy as np\n",
    "import matplotlib.pyplot as plt"
   ]
  },
  {
   "cell_type": "code",
   "execution_count": 2,
   "metadata": {},
   "outputs": [
    {
     "name": "stderr",
     "output_type": "stream",
     "text": [
      "C:\\Users\\JARVIS\\AppData\\Local\\Temp\\ipykernel_14528\\2564171011.py:1: DtypeWarning: Columns (1,4) have mixed types. Specify dtype option on import or set low_memory=False.\n",
      "  df = pd.read_csv('./clean_date_categories.csv')\n"
     ]
    }
   ],
   "source": [
    "df = pd.read_csv('./dataset_main.csv')"
   ]
  },
  {
   "cell_type": "code",
   "execution_count": 7,
   "metadata": {},
   "outputs": [
    {
     "data": {
      "text/html": [
       "<div>\n",
       "<style scoped>\n",
       "    .dataframe tbody tr th:only-of-type {\n",
       "        vertical-align: middle;\n",
       "    }\n",
       "\n",
       "    .dataframe tbody tr th {\n",
       "        vertical-align: top;\n",
       "    }\n",
       "\n",
       "    .dataframe thead th {\n",
       "        text-align: right;\n",
       "    }\n",
       "</style>\n",
       "<table border=\"1\" class=\"dataframe\">\n",
       "  <thead>\n",
       "    <tr style=\"text-align: right;\">\n",
       "      <th></th>\n",
       "      <th>Unnamed: 0</th>\n",
       "      <th>catagory</th>\n",
       "      <th>heading</th>\n",
       "      <th>text</th>\n",
       "      <th>date</th>\n",
       "      <th>link</th>\n",
       "      <th>clean_categories</th>\n",
       "    </tr>\n",
       "  </thead>\n",
       "  <tbody>\n",
       "    <tr>\n",
       "      <th>0</th>\n",
       "      <td>0</td>\n",
       "      <td>राजनीति</td>\n",
       "      <td>छापामारदेखि मन्त्रीसम्म...</td>\n",
       "      <td>\\nसुर्खेत (रासस) । विसं २०४६ मा तत्कालीन मसालक...</td>\n",
       "      <td>बिहीबार, फागुन १०, २०७४</td>\n",
       "      <td>https://baahrakhari.com/news-details/49124</td>\n",
       "      <td>politics</td>\n",
       "    </tr>\n",
       "    <tr>\n",
       "      <th>1</th>\n",
       "      <td>1</td>\n",
       "      <td>राजनीति</td>\n",
       "      <td>सूचना टाँस गरी बैठक स्थगन</td>\n",
       "      <td>\\nसुर्खेत । प्रदेश नं ६ को आज बस्ने प्रदेशसभा ...</td>\n",
       "      <td>बिहीबार, फागुन १०, २०७४</td>\n",
       "      <td>https://baahrakhari.com/news-details/49117</td>\n",
       "      <td>politics</td>\n",
       "    </tr>\n",
       "    <tr>\n",
       "      <th>2</th>\n",
       "      <td>2</td>\n",
       "      <td>राजनीति</td>\n",
       "      <td>पुराना दलबाट मुलुकले निकास पाउँदैन : डा भट्टराई</td>\n",
       "      <td>\\nलुम्बिनी । नयाँ शक्ति पार्टी नेपालका संयोजक ...</td>\n",
       "      <td>बिहीबार, फागुन १०, २०७४</td>\n",
       "      <td>https://baahrakhari.com/news-details/49116</td>\n",
       "      <td>politics</td>\n",
       "    </tr>\n",
       "    <tr>\n",
       "      <th>3</th>\n",
       "      <td>3</td>\n",
       "      <td>राजनीति</td>\n",
       "      <td>मन्त्रालयमा अझै कुरा मिलेन, फोरमलाई पनि सरकारम...</td>\n",
       "      <td>\\nकाठमाडौं । मन्त्रालयको संख्या कति राख्ने र म...</td>\n",
       "      <td>बुधबार, फागुन ९, २०७४</td>\n",
       "      <td>https://baahrakhari.com/news-details/49115</td>\n",
       "      <td>politics</td>\n",
       "    </tr>\n",
       "    <tr>\n",
       "      <th>4</th>\n",
       "      <td>4</td>\n",
       "      <td>राजनीति</td>\n",
       "      <td>एमाले प्रदेश संसदीय दलको मुख्य सचेतकमा शाह</td>\n",
       "      <td>\\nसुर्खेत । प्रदेश नं. ६ को नेकपा एमाले प्रदेश...</td>\n",
       "      <td>बुधबार, फागुन ९, २०७४</td>\n",
       "      <td>https://baahrakhari.com/news-details/49113</td>\n",
       "      <td>politics</td>\n",
       "    </tr>\n",
       "  </tbody>\n",
       "</table>\n",
       "</div>"
      ],
      "text/plain": [
       "   Unnamed: 0 catagory                                            heading  \\\n",
       "0           0  राजनीति                         छापामारदेखि मन्त्रीसम्म...   \n",
       "1           1  राजनीति                          सूचना टाँस गरी बैठक स्थगन   \n",
       "2           2  राजनीति    पुराना दलबाट मुलुकले निकास पाउँदैन : डा भट्टराई   \n",
       "3           3  राजनीति  मन्त्रालयमा अझै कुरा मिलेन, फोरमलाई पनि सरकारम...   \n",
       "4           4  राजनीति         एमाले प्रदेश संसदीय दलको मुख्य सचेतकमा शाह   \n",
       "\n",
       "                                                text                     date  \\\n",
       "0  \\nसुर्खेत (रासस) । विसं २०४६ मा तत्कालीन मसालक...  बिहीबार, फागुन १०, २०७४   \n",
       "1  \\nसुर्खेत । प्रदेश नं ६ को आज बस्ने प्रदेशसभा ...  बिहीबार, फागुन १०, २०७४   \n",
       "2  \\nलुम्बिनी । नयाँ शक्ति पार्टी नेपालका संयोजक ...  बिहीबार, फागुन १०, २०७४   \n",
       "3  \\nकाठमाडौं । मन्त्रालयको संख्या कति राख्ने र म...    बुधबार, फागुन ९, २०७४   \n",
       "4  \\nसुर्खेत । प्रदेश नं. ६ को नेकपा एमाले प्रदेश...    बुधबार, फागुन ९, २०७४   \n",
       "\n",
       "                                         link clean_categories  \n",
       "0  https://baahrakhari.com/news-details/49124         politics  \n",
       "1  https://baahrakhari.com/news-details/49117         politics  \n",
       "2  https://baahrakhari.com/news-details/49116         politics  \n",
       "3  https://baahrakhari.com/news-details/49115         politics  \n",
       "4  https://baahrakhari.com/news-details/49113         politics  "
      ]
     },
     "execution_count": 7,
     "metadata": {},
     "output_type": "execute_result"
    }
   ],
   "source": [
    "df.head()"
   ]
  },
  {
   "cell_type": "code",
   "execution_count": 5,
   "metadata": {},
   "outputs": [
    {
     "data": {
      "text/plain": [
       "(2760921, 7)"
      ]
     },
     "execution_count": 5,
     "metadata": {},
     "output_type": "execute_result"
    }
   ],
   "source": [
    "df.shape"
   ]
  },
  {
   "cell_type": "code",
   "execution_count": 6,
   "metadata": {},
   "outputs": [
    {
     "data": {
      "text/plain": [
       "'\\nसुर्खेत (रासस) । विसं २०४६ मा तत्कालीन मसालको विद्यार्थी संगठनको सदस्यता लिँदा उनी राप्ती ज्ञानोदय मावि रुकुममा कक्षा ६ मा अध्ययनरत थिइन् ।\\nविद्यार्थी संगठनको सदस्य हुँदा राजनीतिबारे खासै थाहा थिएन । पछि संगठनका अग्रजले मुलुकको राजनीतिक, आर्थिक र सामाजिक अवस्थाको यथार्थता प्रष्ट्याउँदै जाँदा त्यसप्रति उनको चासो बढ्यो । यद्यपि त्यतिबेला भने नेपालमा सशस्त्र युद्धको थालनी भइसकेको थिएन ।\\nकिशोर अवस्थादेखि राजनीतिक यात्रा शुरु गरेकी बिमला केसी रुकुम पश्चिमको सानीभेरी गाउँपालिका–९ सिम्ली निवासी हुन् । सानै उमेरमा बुबाको मृत्यु भएकाले केसीलाई विद्यालय शिक्षा हाँसिल गर्न निकै समस्या भयो । बुबाको मृत्युपछि आमाले भोगेको पीडा, व्याप्त गरिबी र महिला हिंसाले उनलाई संघर्षमा उत्रन उत्प्रेरित गरायो ।\\nविद्यार्थी राजनीतिबाट अघि बढेकी केसीपछि २०५२ सालमा तत्कालीन नेकपा (माओवादी)ले सञ्चालन गरेको जनयुद्धमा सहभागी भइन् ।\\nपूर्णकालीन सदस्य बनेर माओवादी राजनीतिको यात्राका दौडानमा उनी रुकुम जिल्लाको पहिलो महिला, विद्यार्थी तथा कलाकार संगठनको एकै पटक प्रमुख बनिन् ।\\nत्यसपछि माओवादी सुरक्षा दलको सदस्य हुँदै २०५६ सालमा उनले रुकुमको छिवाङ गाउँ जनसरकार प्रमुखको भूमिका निर्वाह गरिन् । सुरक्षा दलको सदस्य हुँदाका बखत महिला छापामार भएर कैयन युद्ध मोर्चामा लड्दा भोग्नुपरेका सास्तीको केसी अहिले पनि तीतो स्मरण गर्छिन् ।\\nविसं २०५८ सालमा पार्टीको क्षेत्रीय ब्यूरो तथा महिला संगठनको केन्द्रीय सदस्य बनेकी केसी २०५९ सालमा भूमिगत अवस्थामै तत्कालीन मगरात स्वायत्त प्रदेशको समाज कल्याण मन्त्री पनि बनिन् । त्यसैगरी, २०६४ सालमा रुकुमबाट उनी प्रतिनिधिसभा सदस्यमा निर्वाचित भइन् ।\\nसमानुपातिकबाट प्रदेशसभामा निर्वाचित केसी प्रदेश नं ६ को पहिलो भूमि व्यवस्था, कृषि तथा सहकारी मन्त्री बनेकी छन् ।\\nमहिलाहरुले संघर्ष गर्न सक्दैनन् भन्ने भनाइलाई गलत सावित गर्दै अहिले यो हैसियतमा पुग्दा निकै गर्व लागेको मन्त्री केसी बताउँछिन् । “यो देशको महिलासहित उत्पीडित वर्गको जननी सशस्त्र युद्ध नै हो, जहाँ थुप्रैपटक हामीले छापामार युद्ध लडेका थियौँ,”–उनले भनिन् ।\\nत्यही छापामार युद्धले आफूलाई यस ठाउँमा पुर्याएको उनको भनाइ थियो । प्रदेश सरकारको प्रवक्तासमेत रहेकी सहकारी मन्त्री केसी हाल नेकपा (माओवादी केन्द्र)को पोलिटब्यूरो सदस्य छन् ।\\n\\n\\xa0'"
      ]
     },
     "execution_count": 6,
     "metadata": {},
     "output_type": "execute_result"
    }
   ],
   "source": [
    "df.iloc[0].text"
   ]
  },
  {
   "cell_type": "code",
   "execution_count": 16,
   "metadata": {},
   "outputs": [
    {
     "data": {
      "text/html": [
       "<div>\n",
       "<style scoped>\n",
       "    .dataframe tbody tr th:only-of-type {\n",
       "        vertical-align: middle;\n",
       "    }\n",
       "\n",
       "    .dataframe tbody tr th {\n",
       "        vertical-align: top;\n",
       "    }\n",
       "\n",
       "    .dataframe thead th {\n",
       "        text-align: right;\n",
       "    }\n",
       "</style>\n",
       "<table border=\"1\" class=\"dataframe\">\n",
       "  <thead>\n",
       "    <tr style=\"text-align: right;\">\n",
       "      <th></th>\n",
       "      <th>Unnamed: 0</th>\n",
       "      <th>catagory</th>\n",
       "      <th>heading</th>\n",
       "      <th>text</th>\n",
       "      <th>date</th>\n",
       "      <th>link</th>\n",
       "      <th>clean_categories</th>\n",
       "    </tr>\n",
       "  </thead>\n",
       "  <tbody>\n",
       "    <tr>\n",
       "      <th>0</th>\n",
       "      <td>0</td>\n",
       "      <td>राजनीति</td>\n",
       "      <td>छापामारदेखि मन्त्रीसम्म...</td>\n",
       "      <td>\\nसुर्खेत (रासस) । विसं २०४६ मा तत्कालीन मसालक...</td>\n",
       "      <td>बिहीबार, फागुन १०, २०७४</td>\n",
       "      <td>https://baahrakhari.com/news-details/49124</td>\n",
       "      <td>politics</td>\n",
       "    </tr>\n",
       "    <tr>\n",
       "      <th>1</th>\n",
       "      <td>1</td>\n",
       "      <td>राजनीति</td>\n",
       "      <td>सूचना टाँस गरी बैठक स्थगन</td>\n",
       "      <td>\\nसुर्खेत । प्रदेश नं ६ को आज बस्ने प्रदेशसभा ...</td>\n",
       "      <td>बिहीबार, फागुन १०, २०७४</td>\n",
       "      <td>https://baahrakhari.com/news-details/49117</td>\n",
       "      <td>politics</td>\n",
       "    </tr>\n",
       "    <tr>\n",
       "      <th>2</th>\n",
       "      <td>2</td>\n",
       "      <td>राजनीति</td>\n",
       "      <td>पुराना दलबाट मुलुकले निकास पाउँदैन : डा भट्टराई</td>\n",
       "      <td>\\nलुम्बिनी । नयाँ शक्ति पार्टी नेपालका संयोजक ...</td>\n",
       "      <td>बिहीबार, फागुन १०, २०७४</td>\n",
       "      <td>https://baahrakhari.com/news-details/49116</td>\n",
       "      <td>politics</td>\n",
       "    </tr>\n",
       "    <tr>\n",
       "      <th>3</th>\n",
       "      <td>3</td>\n",
       "      <td>राजनीति</td>\n",
       "      <td>मन्त्रालयमा अझै कुरा मिलेन, फोरमलाई पनि सरकारम...</td>\n",
       "      <td>\\nकाठमाडौं । मन्त्रालयको संख्या कति राख्ने र म...</td>\n",
       "      <td>बुधबार, फागुन ९, २०७४</td>\n",
       "      <td>https://baahrakhari.com/news-details/49115</td>\n",
       "      <td>politics</td>\n",
       "    </tr>\n",
       "    <tr>\n",
       "      <th>4</th>\n",
       "      <td>4</td>\n",
       "      <td>राजनीति</td>\n",
       "      <td>एमाले प्रदेश संसदीय दलको मुख्य सचेतकमा शाह</td>\n",
       "      <td>\\nसुर्खेत । प्रदेश नं. ६ को नेकपा एमाले प्रदेश...</td>\n",
       "      <td>बुधबार, फागुन ९, २०७४</td>\n",
       "      <td>https://baahrakhari.com/news-details/49113</td>\n",
       "      <td>politics</td>\n",
       "    </tr>\n",
       "  </tbody>\n",
       "</table>\n",
       "</div>"
      ],
      "text/plain": [
       "   Unnamed: 0 catagory                                            heading  \\\n",
       "0           0  राजनीति                         छापामारदेखि मन्त्रीसम्म...   \n",
       "1           1  राजनीति                          सूचना टाँस गरी बैठक स्थगन   \n",
       "2           2  राजनीति    पुराना दलबाट मुलुकले निकास पाउँदैन : डा भट्टराई   \n",
       "3           3  राजनीति  मन्त्रालयमा अझै कुरा मिलेन, फोरमलाई पनि सरकारम...   \n",
       "4           4  राजनीति         एमाले प्रदेश संसदीय दलको मुख्य सचेतकमा शाह   \n",
       "\n",
       "                                                text                     date  \\\n",
       "0  \\nसुर्खेत (रासस) । विसं २०४६ मा तत्कालीन मसालक...  बिहीबार, फागुन १०, २०७४   \n",
       "1  \\nसुर्खेत । प्रदेश नं ६ को आज बस्ने प्रदेशसभा ...  बिहीबार, फागुन १०, २०७४   \n",
       "2  \\nलुम्बिनी । नयाँ शक्ति पार्टी नेपालका संयोजक ...  बिहीबार, फागुन १०, २०७४   \n",
       "3  \\nकाठमाडौं । मन्त्रालयको संख्या कति राख्ने र म...    बुधबार, फागुन ९, २०७४   \n",
       "4  \\nसुर्खेत । प्रदेश नं. ६ को नेकपा एमाले प्रदेश...    बुधबार, फागुन ९, २०७४   \n",
       "\n",
       "                                         link clean_categories  \n",
       "0  https://baahrakhari.com/news-details/49124         politics  \n",
       "1  https://baahrakhari.com/news-details/49117         politics  \n",
       "2  https://baahrakhari.com/news-details/49116         politics  \n",
       "3  https://baahrakhari.com/news-details/49115         politics  \n",
       "4  https://baahrakhari.com/news-details/49113         politics  "
      ]
     },
     "execution_count": 16,
     "metadata": {},
     "output_type": "execute_result"
    }
   ],
   "source": [
    "df.head()"
   ]
  },
  {
   "cell_type": "code",
   "execution_count": 16,
   "metadata": {},
   "outputs": [
    {
     "data": {
      "text/plain": [
       "['म फुल खान्छु।', 'र म भात खान्छु?', '']"
      ]
     },
     "execution_count": 16,
     "metadata": {},
     "output_type": "execute_result"
    }
   ],
   "source": [
    "import re\n",
    "\n",
    "def split_into_sentences(text):\n",
    "    # Regular expression to split text into sentences\n",
    "    sentence_endings = r'(?<=[!?।]) *'\n",
    "    sentences = re.split(sentence_endings, text)\n",
    "    return sentences\n",
    "\n",
    "split_into_sentences('म फुल खान्छु।       र म भात खान्छु?')\n"
   ]
  },
  {
   "cell_type": "code",
   "execution_count": null,
   "metadata": {},
   "outputs": [],
   "source": [
    "import pandas as pd\n",
    "import re\n",
    "\n",
    "# Function to split text into sentences\n",
    "def split_into_sentences(text):\n",
    "    # Regular expression to split text into sentences\n",
    "    sentence_endings = r'(?<=[!?।]) *'\n",
    "    sentences = re.split(sentence_endings, text)\n",
    "    return sentences\n",
    "\n",
    "\n",
    "# Reorganize dataset by splitting each row into multiple rows per sentence\n",
    "rows = []\n",
    "for index, row in df.iterrows():\n",
    "    sentences = split_into_sentences(row['text'])[:-1]  # Assuming 'text' column holds the content\n",
    "    for sentence in sentences:\n",
    "        rows.append({'category': row['catagory'], 'heading': row['heading'], 'text': sentence, 'date': row['date'], 'link': row['link'], 'clean_categories': row['clean_categories']})\n",
    "\n",
    "# Create a new DataFrame with one sentence per row\n",
    "new_df = pd.DataFrame(rows)\n",
    "\n",
    "# Save the new DataFrame to a CSV file\n",
    "new_df.to_csv('reorganized_dataset.csv', index=False)\n"
   ]
  },
  {
   "cell_type": "code",
   "execution_count": null,
   "metadata": {},
   "outputs": [],
   "source": [
    "new_df.head()"
   ]
  }
 ],
 "metadata": {
  "kernelspec": {
   "display_name": "env_torch",
   "language": "python",
   "name": "python3"
  },
  "language_info": {
   "codemirror_mode": {
    "name": "ipython",
    "version": 3
   },
   "file_extension": ".py",
   "mimetype": "text/x-python",
   "name": "python",
   "nbconvert_exporter": "python",
   "pygments_lexer": "ipython3",
   "version": "3.12.3"
  }
 },
 "nbformat": 4,
 "nbformat_minor": 2
}
