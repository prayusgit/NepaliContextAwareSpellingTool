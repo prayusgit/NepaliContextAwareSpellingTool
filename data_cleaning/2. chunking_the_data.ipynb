{
 "cells": [
  {
   "cell_type": "code",
   "execution_count": null,
   "metadata": {
    "vscode": {
     "languageId": "plaintext"
    }
   },
   "outputs": [],
   "source": [
    "import pandas as pd"
   ]
  },
  {
   "cell_type": "code",
   "execution_count": null,
   "metadata": {
    "vscode": {
     "languageId": "plaintext"
    }
   },
   "outputs": [],
   "source": [
    "\n",
    "# Load the large dataset\n",
    "file_path = \"reorganized_dataset.csv\"  # Replace with your file path\n",
    "output_folder = \"chunked_data/\"  # Replace with your output folder path\n",
    "\n",
    "# Number of rows per chunk\n",
    "chunk_size = 1_000_000  \n",
    "\n",
    "# Read the dataset in chunks and save each chunk to a separate file\n",
    "chunk_number = 1\n",
    "\n",
    "for chunk in pd.read_csv(file_path, chunksize=chunk_size, encoding='utf-8'):\n",
    "    # Define the output file name for the chunk\n",
    "    output_file = f\"{output_folder}chunk_{chunk_number}.csv\"\n",
    "    \n",
    "    # Save the chunk to a CSV file\n",
    "    chunk.to_csv(output_file, index=False, encoding='utf-8')\n",
    "    \n",
    "    print(f\"Saved chunk {chunk_number} to {output_file}\")\n",
    "    chunk_number += 1\n",
    "\n",
    "print(\"Chunking completed.\")\n"
   ]
  }
 ],
 "metadata": {
  "language_info": {
   "name": "python"
  }
 },
 "nbformat": 4,
 "nbformat_minor": 2
}
