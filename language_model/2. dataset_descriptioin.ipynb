{
 "cells": [
  {
   "cell_type": "code",
   "execution_count": 2,
   "metadata": {},
   "outputs": [],
   "source": [
    "import pandas as pd\n",
    "import numpy as np\n",
    "import matplotlib.pyplot as plt"
   ]
  },
  {
   "cell_type": "code",
   "execution_count": 4,
   "metadata": {},
   "outputs": [
    {
     "name": "stderr",
     "output_type": "stream",
     "text": [
      "C:\\Users\\JARVIS\\AppData\\Local\\Temp\\ipykernel_14452\\2564171011.py:1: DtypeWarning: Columns (1,4) have mixed types. Specify dtype option on import or set low_memory=False.\n",
      "  df = pd.read_csv('./clean_date_categories.csv')\n"
     ]
    }
   ],
   "source": [
    "df = pd.read_csv('./clean_date_categories.csv')"
   ]
  },
  {
   "cell_type": "code",
   "execution_count": 7,
   "metadata": {},
   "outputs": [
    {
     "data": {
      "text/html": [
       "<div>\n",
       "<style scoped>\n",
       "    .dataframe tbody tr th:only-of-type {\n",
       "        vertical-align: middle;\n",
       "    }\n",
       "\n",
       "    .dataframe tbody tr th {\n",
       "        vertical-align: top;\n",
       "    }\n",
       "\n",
       "    .dataframe thead th {\n",
       "        text-align: right;\n",
       "    }\n",
       "</style>\n",
       "<table border=\"1\" class=\"dataframe\">\n",
       "  <thead>\n",
       "    <tr style=\"text-align: right;\">\n",
       "      <th></th>\n",
       "      <th>Unnamed: 0</th>\n",
       "      <th>catagory</th>\n",
       "      <th>heading</th>\n",
       "      <th>text</th>\n",
       "      <th>date</th>\n",
       "      <th>link</th>\n",
       "      <th>clean_categories</th>\n",
       "    </tr>\n",
       "  </thead>\n",
       "  <tbody>\n",
       "    <tr>\n",
       "      <th>0</th>\n",
       "      <td>0</td>\n",
       "      <td>राजनीति</td>\n",
       "      <td>छापामारदेखि मन्त्रीसम्म...</td>\n",
       "      <td>\\nसुर्खेत (रासस) । विसं २०४६ मा तत्कालीन मसालक...</td>\n",
       "      <td>बिहीबार, फागुन १०, २०७४</td>\n",
       "      <td>https://baahrakhari.com/news-details/49124</td>\n",
       "      <td>politics</td>\n",
       "    </tr>\n",
       "    <tr>\n",
       "      <th>1</th>\n",
       "      <td>1</td>\n",
       "      <td>राजनीति</td>\n",
       "      <td>सूचना टाँस गरी बैठक स्थगन</td>\n",
       "      <td>\\nसुर्खेत । प्रदेश नं ६ को आज बस्ने प्रदेशसभा ...</td>\n",
       "      <td>बिहीबार, फागुन १०, २०७४</td>\n",
       "      <td>https://baahrakhari.com/news-details/49117</td>\n",
       "      <td>politics</td>\n",
       "    </tr>\n",
       "    <tr>\n",
       "      <th>2</th>\n",
       "      <td>2</td>\n",
       "      <td>राजनीति</td>\n",
       "      <td>पुराना दलबाट मुलुकले निकास पाउँदैन : डा भट्टराई</td>\n",
       "      <td>\\nलुम्बिनी । नयाँ शक्ति पार्टी नेपालका संयोजक ...</td>\n",
       "      <td>बिहीबार, फागुन १०, २०७४</td>\n",
       "      <td>https://baahrakhari.com/news-details/49116</td>\n",
       "      <td>politics</td>\n",
       "    </tr>\n",
       "    <tr>\n",
       "      <th>3</th>\n",
       "      <td>3</td>\n",
       "      <td>राजनीति</td>\n",
       "      <td>मन्त्रालयमा अझै कुरा मिलेन, फोरमलाई पनि सरकारम...</td>\n",
       "      <td>\\nकाठमाडौं । मन्त्रालयको संख्या कति राख्ने र म...</td>\n",
       "      <td>बुधबार, फागुन ९, २०७४</td>\n",
       "      <td>https://baahrakhari.com/news-details/49115</td>\n",
       "      <td>politics</td>\n",
       "    </tr>\n",
       "    <tr>\n",
       "      <th>4</th>\n",
       "      <td>4</td>\n",
       "      <td>राजनीति</td>\n",
       "      <td>एमाले प्रदेश संसदीय दलको मुख्य सचेतकमा शाह</td>\n",
       "      <td>\\nसुर्खेत । प्रदेश नं. ६ को नेकपा एमाले प्रदेश...</td>\n",
       "      <td>बुधबार, फागुन ९, २०७४</td>\n",
       "      <td>https://baahrakhari.com/news-details/49113</td>\n",
       "      <td>politics</td>\n",
       "    </tr>\n",
       "  </tbody>\n",
       "</table>\n",
       "</div>"
      ],
      "text/plain": [
       "   Unnamed: 0 catagory                                            heading  \\\n",
       "0           0  राजनीति                         छापामारदेखि मन्त्रीसम्म...   \n",
       "1           1  राजनीति                          सूचना टाँस गरी बैठक स्थगन   \n",
       "2           2  राजनीति    पुराना दलबाट मुलुकले निकास पाउँदैन : डा भट्टराई   \n",
       "3           3  राजनीति  मन्त्रालयमा अझै कुरा मिलेन, फोरमलाई पनि सरकारम...   \n",
       "4           4  राजनीति         एमाले प्रदेश संसदीय दलको मुख्य सचेतकमा शाह   \n",
       "\n",
       "                                                text                     date  \\\n",
       "0  \\nसुर्खेत (रासस) । विसं २०४६ मा तत्कालीन मसालक...  बिहीबार, फागुन १०, २०७४   \n",
       "1  \\nसुर्खेत । प्रदेश नं ६ को आज बस्ने प्रदेशसभा ...  बिहीबार, फागुन १०, २०७४   \n",
       "2  \\nलुम्बिनी । नयाँ शक्ति पार्टी नेपालका संयोजक ...  बिहीबार, फागुन १०, २०७४   \n",
       "3  \\nकाठमाडौं । मन्त्रालयको संख्या कति राख्ने र म...    बुधबार, फागुन ९, २०७४   \n",
       "4  \\nसुर्खेत । प्रदेश नं. ६ को नेकपा एमाले प्रदेश...    बुधबार, फागुन ९, २०७४   \n",
       "\n",
       "                                         link clean_categories  \n",
       "0  https://baahrakhari.com/news-details/49124         politics  \n",
       "1  https://baahrakhari.com/news-details/49117         politics  \n",
       "2  https://baahrakhari.com/news-details/49116         politics  \n",
       "3  https://baahrakhari.com/news-details/49115         politics  \n",
       "4  https://baahrakhari.com/news-details/49113         politics  "
      ]
     },
     "execution_count": 7,
     "metadata": {},
     "output_type": "execute_result"
    }
   ],
   "source": [
    "df.head()"
   ]
  },
  {
   "cell_type": "code",
   "execution_count": null,
   "metadata": {},
   "outputs": [],
   "source": [
    "df.head()"
   ]
  },
  {
   "cell_type": "code",
   "execution_count": null,
   "metadata": {},
   "outputs": [],
   "source": []
  }
 ],
 "metadata": {
  "kernelspec": {
   "display_name": "env_torch",
   "language": "python",
   "name": "python3"
  },
  "language_info": {
   "codemirror_mode": {
    "name": "ipython",
    "version": 3
   },
   "file_extension": ".py",
   "mimetype": "text/x-python",
   "name": "python",
   "nbconvert_exporter": "python",
   "pygments_lexer": "ipython3",
   "version": "3.12.3"
  }
 },
 "nbformat": 4,
 "nbformat_minor": 2
}
