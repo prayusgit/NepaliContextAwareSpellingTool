{
 "cells": [
  {
   "cell_type": "markdown",
   "metadata": {
    "vscode": {
     "languageId": "plaintext"
    }
   },
   "source": [
    "# Preprocessing Data"
   ]
  },
  {
   "cell_type": "code",
   "execution_count": null,
   "metadata": {},
   "outputs": [],
   "source": [
    "import random\n",
    "from transformers import BertTokenizer\n",
    "\n",
    "df_train = pd.read_csv('./datasets/train_data.csv')\n",
    "df_confusion_set = pd.read_csv('./datasets/final_confusion_sets.csv')"
   ]
  },
  {
   "cell_type": "code",
   "execution_count": null,
   "metadata": {},
   "outputs": [],
   "source": [
    "import pandas as pd\n",
    "\n",
    "\n",
    "confusion_set = {}\n",
    "\n",
    "# Populate the dictionary\n",
    "for _, row in confusion_set_df.iloc[:,:2].iterrows():\n",
    "    word = row['Word']\n",
    "    confusion_words = [word.strip() for word in row['Confusions'].split(',')]  # Handle multiple confusion words\n",
    "    confusion_set[word] = confusion_words\n",
    "\n",
    "    # Add reverse mappings for all confusion words\n",
    "    for confusion_word in confusion_words:\n",
    "        if confusion_word not in confusion_set:\n",
    "            confusion_set[confusion_word] = []\n",
    "        if word not in confusion_set[confusion_word]:\n",
    "            confusion_set[confusion_word].append(word)\n",
    "\n",
    "# Print the resulting dictionary\n",
    "print(confusion_set)"
   ]
  },
  {
   "cell_type": "code",
   "execution_count": null,
   "metadata": {},
   "outputs": [],
   "source": [
    "sentences = df.text.to_list()"
   ]
  },
  {
   "cell_type": "code",
   "execution_count": null,
   "metadata": {},
   "outputs": [],
   "source": [
    "mask_prob = 0.15\n",
    "\n",
    "# Load tokenizer\n",
    "tokenizer = BertTokenizer.from_pretrained(\"nepali-bert\")\n"
   ]
  },
  {
   "cell_type": "code",
   "execution_count": null,
   "metadata": {},
   "outputs": [],
   "source": [
    "\n",
    "\n",
    "# Function to tokenize sentences\n",
    "def tokenize(sentence):\n",
    "    return sentence.split()\n",
    "\n",
    "# Prepare masked sentences\n",
    "def preprocess_data(sentences, confusion_set, mask_prob, tokenizer):\n",
    "    input_ids = []\n",
    "    labels = []\n",
    "    \n",
    "    for sentence in sentences:\n",
    "        tokens = tokenize(sentence)\n",
    "        confusion_words = [word for word in tokens if word in confusion_set]\n",
    "        \n",
    "        if confusion_words:\n",
    "            # Mask a confusion word\n",
    "            word_to_mask = random.choice(confusion_words)\n",
    "        else:\n",
    "            # Mask a random word with probability\n",
    "            word_to_mask = random.choice(tokens) if random.random() < mask_prob else None\n",
    "        \n",
    "        if word_to_mask:\n",
    "            masked_tokens = [token if token != word_to_mask else \"[MASK]\" for token in tokens]\n",
    "            masked_sentence = \" \".join(masked_tokens)\n",
    "            # Tokenize masked sentence and original sentence for labels\n",
    "            encoded = tokenizer(masked_sentence, return_tensors=\"pt\", padding=\"max_length\", truncation=True, max_length=128)\n",
    "            label_encoded = tokenizer(sentence, return_tensors=\"pt\", padding=\"max_length\", truncation=True, max_length=128)\n",
    "\n",
    "            input_ids.append(encoded.input_ids)\n",
    "            labels.append(label_encoded.input_ids)\n",
    "\n",
    "    return input_ids, labels\n",
    "\n"
   ]
  },
  {
   "cell_type": "code",
   "execution_count": null,
   "metadata": {},
   "outputs": [],
   "source": [
    "input_ids, labels = preprocess_data(sentences, confusion_set, mask_prob, tokenizer)\n"
   ]
  },
  {
   "cell_type": "markdown",
   "metadata": {},
   "source": [
    "# Dataset Preparation"
   ]
  },
  {
   "cell_type": "code",
   "execution_count": null,
   "metadata": {},
   "outputs": [],
   "source": [
    "import torch\n",
    "from torch.utils.data import Dataset, DataLoader\n",
    "\n",
    "class MLMDataset(Dataset):\n",
    "    def __init__(self, input_ids, labels):\n",
    "        self.input_ids = input_ids\n",
    "        self.labels = labels\n",
    "\n",
    "    def __len__(self):\n",
    "        return len(self.input_ids)\n",
    "\n",
    "    def __getitem__(self, idx):\n",
    "        return {\n",
    "            \"input_ids\": self.input_ids[idx].squeeze(),\n",
    "            \"labels\": self.labels[idx].squeeze()\n",
    "        }\n",
    "\n"
   ]
  },
  {
   "cell_type": "code",
   "execution_count": null,
   "metadata": {},
   "outputs": [],
   "source": [
    "# Create dataset and dataloader\n",
    "dataset = MLMDataset(input_ids, labels)\n",
    "dataloader = DataLoader(dataset, batch_size=8, shuffle=True)\n"
   ]
  },
  {
   "cell_type": "markdown",
   "metadata": {},
   "source": [
    "# Training the model"
   ]
  },
  {
   "cell_type": "code",
   "execution_count": null,
   "metadata": {},
   "outputs": [],
   "source": [
    "from transformers import BertForMaskedLM, AdamW\n",
    "from torch.nn import functional as F\n",
    "from tqdm import tqdm\n",
    "\n",
    "# Load pre-trained BERT model\n",
    "model = BertForMaskedLM.from_pretrained(\"nepali-bert\")\n",
    "\n",
    "# Set up optimizer\n",
    "optimizer = AdamW(model.parameters(), lr=5e-5)\n",
    "\n",
    "# Training loop\n",
    "device = torch.device(\"cuda\" if torch.cuda.is_available() else \"cpu\")\n",
    "model.to(device)\n",
    "model.train()\n"
   ]
  },
  {
   "cell_type": "code",
   "execution_count": null,
   "metadata": {},
   "outputs": [],
   "source": [
    "\n",
    "epochs = 3\n",
    "for epoch in range(epochs):\n",
    "    loop = tqdm(dataloader, leave=True)\n",
    "    total_loss = 0\n",
    "\n",
    "    for batch in loop:\n",
    "        input_ids = batch[\"input_ids\"].to(device)\n",
    "        labels = batch[\"labels\"].to(device)\n",
    "\n",
    "        # Forward pass\n",
    "        outputs = model(input_ids=input_ids, labels=labels)\n",
    "        loss = outputs.loss\n",
    "        total_loss += loss.item()\n",
    "\n",
    "        # Backward pass\n",
    "        optimizer.zero_grad()\n",
    "        loss.backward()\n",
    "        optimizer.step()\n",
    "\n",
    "        # Update progress bar\n",
    "        loop.set_description(f\"Epoch {epoch}\")\n",
    "        loop.set_postfix(loss=loss.item())\n",
    "\n",
    "    print(f\"Epoch {epoch} Loss: {total_loss / len(dataloader)}\")\n",
    "\n"
   ]
  },
  {
   "cell_type": "code",
   "execution_count": null,
   "metadata": {},
   "outputs": [],
   "source": [
    "\n",
    "# Save the fine-tuned model\n",
    "model.save_pretrained(\"./fine_tuned_nepali_bert\")\n",
    "tokenizer.save_pretrained(\"./fine_tuned_nepali_bert\")"
   ]
  }
 ],
 "metadata": {
  "kernelspec": {
   "display_name": "env_torch",
   "language": "python",
   "name": "python3"
  },
  "language_info": {
   "name": "python",
   "version": "3.12.3"
  }
 },
 "nbformat": 4,
 "nbformat_minor": 2
}
